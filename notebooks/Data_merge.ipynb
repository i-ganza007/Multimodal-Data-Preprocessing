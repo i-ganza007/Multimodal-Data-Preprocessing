{
  "nbformat": 4,
  "nbformat_minor": 0,
  "metadata": {
    "colab": {
      "provenance": [],
      "authorship_tag": "ABX9TyM5LMW5/pX0ITno2gQgfxnH",
      "include_colab_link": true
    },
    "kernelspec": {
      "name": "python3",
      "display_name": "Python 3"
    },
    "language_info": {
      "name": "python"
    }
  },
  "cells": [
    {
      "cell_type": "markdown",
      "metadata": {
        "id": "view-in-github",
        "colab_type": "text"
      },
      "source": [
        "<a href=\"https://colab.research.google.com/github/i-ganza007/Multimodal-Data-Preprocessing/blob/main/Data_merge.ipynb\" target=\"_parent\"><img src=\"https://colab.research.google.com/assets/colab-badge.svg\" alt=\"Open In Colab\"/></a>"
      ]
    },
    {
      "cell_type": "markdown",
      "source": [
        "#Task 1: Data Merge"
      ],
      "metadata": {
        "id": "w1G9scRBtfUz"
      }
    },
    {
      "cell_type": "code",
      "execution_count": 13,
      "metadata": {
        "id": "7Rn6letTtSYF"
      },
      "outputs": [],
      "source": [
        "import pandas as pd\n",
        "import matplotlib.pyplot as plt\n",
        "import seaborn as sns"
      ]
    },
    {
      "cell_type": "code",
      "source": [
        "# Extracting the id columns for each dataset\n",
        "customer_transactions_id= customer_transactions['customer_id_legacy']\n",
        "customer_social_profiles_id= customer_social_profiles['customer_id_new']"
      ],
      "metadata": {
        "id": "-2H58yd7uBlR"
      },
      "execution_count": 3,
      "outputs": []
    },
    {
      "cell_type": "code",
      "source": [
        "# printing them\n",
        "print(customer_transactions_id)\n",
        "print(customer_social_profiles_id)"
      ],
      "metadata": {
        "colab": {
          "base_uri": "https://localhost:8080/"
        },
        "id": "GBAP7-cFuOeE",
        "outputId": "66a8ab99-fa5b-47a4-f657-6a258c9ed423"
      },
      "execution_count": 4,
      "outputs": [
        {
          "output_type": "stream",
          "name": "stdout",
          "text": [
            "0      151\n",
            "1      192\n",
            "2      114\n",
            "3      171\n",
            "4      160\n",
            "      ... \n",
            "145    102\n",
            "146    100\n",
            "147    104\n",
            "148    189\n",
            "149    113\n",
            "Name: customer_id_legacy, Length: 150, dtype: int64\n",
            "0      A178\n",
            "1      A190\n",
            "2      A150\n",
            "3      A162\n",
            "4      A197\n",
            "       ... \n",
            "150    A125\n",
            "151    A116\n",
            "152    A189\n",
            "153    A162\n",
            "154    A155\n",
            "Name: customer_id_new, Length: 155, dtype: object\n"
          ]
        }
      ]
    },
    {
      "cell_type": "code",
      "source": [
        "# Step 1: Extract number from A151 → 151 and merging two datasets\n",
        "customer_social_profiles[\"id_number\"] = customer_social_profiles[\"customer_id_new\"].str.extract(r\"(\\d+)\").astype(int)\n",
        "customer_transactions.rename(columns={\"customer_id_legacy\": \"id_number\"}, inplace=True)\n",
        "merged_dataset = pd.merge(customer_transactions, customer_social_profiles, on=\"id_number\", how=\"inner\")"
      ],
      "metadata": {
        "id": "R8lG44aCuWjx"
      },
      "execution_count": 5,
      "outputs": []
    },
    {
      "cell_type": "code",
      "source": [
        "print(merged_dataset.head())\n",
        "print(\"Merged dataset shape:\", merged_dataset.shape)"
      ],
      "metadata": {
        "colab": {
          "base_uri": "https://localhost:8080/"
        },
        "id": "bskiLEJgufK3",
        "outputId": "2e9bbdb6-cb1e-4699-faf6-118e9de37a52"
      },
      "execution_count": 14,
      "outputs": [
        {
          "output_type": "stream",
          "name": "stdout",
          "text": [
            "   id_number  transaction_id  purchase_amount purchase_date product_category  \\\n",
            "0        151            1001              408    2024-01-01           Sports   \n",
            "1        151            1001              408    2024-01-01           Sports   \n",
            "2        151            1001              408    2024-01-01           Sports   \n",
            "3        192            1002              332    2024-01-02      Electronics   \n",
            "4        114            1003              442    2024-01-03      Electronics   \n",
            "\n",
            "   customer_rating customer_id_new social_media_platform  engagement_score  \\\n",
            "0              2.3            A151                TikTok                61   \n",
            "1              2.3            A151               Twitter                72   \n",
            "2              2.3            A151               Twitter                82   \n",
            "3              4.2            A192             Instagram                60   \n",
            "4              2.1            A114              Facebook                87   \n",
            "\n",
            "   purchase_interest_score review_sentiment  \n",
            "0                      1.3          Neutral  \n",
            "1                      1.6          Neutral  \n",
            "2                      3.6         Negative  \n",
            "3                      4.3         Positive  \n",
            "4                      4.8         Negative  \n",
            "Merged dataset shape: (213, 11)\n"
          ]
        }
      ]
    },
    {
      "cell_type": "code",
      "source": [
        "# Checking duplicats\n",
        "merged_dataset.duplicated().sum()"
      ],
      "metadata": {
        "colab": {
          "base_uri": "https://localhost:8080/"
        },
        "id": "wHjgWmm1ukfh",
        "outputId": "da98476a-7585-4948-9d1c-29469541af8b"
      },
      "execution_count": 7,
      "outputs": [
        {
          "output_type": "execute_result",
          "data": {
            "text/plain": [
              "np.int64(6)"
            ]
          },
          "metadata": {},
          "execution_count": 7
        }
      ]
    },
    {
      "cell_type": "code",
      "source": [
        "# removing duplicates\n",
        "merged_dataset = merged_dataset.drop_duplicates()"
      ],
      "metadata": {
        "id": "JjIoJDWWu2xU"
      },
      "execution_count": 9,
      "outputs": []
    },
    {
      "cell_type": "code",
      "source": [
        "# checking null values\n",
        "merged_dataset.isna().sum()"
      ],
      "metadata": {
        "colab": {
          "base_uri": "https://localhost:8080/",
          "height": 429
        },
        "id": "dHEZgFe5uhjk",
        "outputId": "4c1d71e6-8ad7-4603-c50e-a4fec3f07d83"
      },
      "execution_count": 8,
      "outputs": [
        {
          "output_type": "execute_result",
          "data": {
            "text/plain": [
              "id_number                   0\n",
              "transaction_id              0\n",
              "purchase_amount             0\n",
              "purchase_date               0\n",
              "product_category            0\n",
              "customer_rating            19\n",
              "customer_id_new             0\n",
              "social_media_platform       0\n",
              "engagement_score            0\n",
              "purchase_interest_score     0\n",
              "review_sentiment            0\n",
              "dtype: int64"
            ],
            "text/html": [
              "<div>\n",
              "<style scoped>\n",
              "    .dataframe tbody tr th:only-of-type {\n",
              "        vertical-align: middle;\n",
              "    }\n",
              "\n",
              "    .dataframe tbody tr th {\n",
              "        vertical-align: top;\n",
              "    }\n",
              "\n",
              "    .dataframe thead th {\n",
              "        text-align: right;\n",
              "    }\n",
              "</style>\n",
              "<table border=\"1\" class=\"dataframe\">\n",
              "  <thead>\n",
              "    <tr style=\"text-align: right;\">\n",
              "      <th></th>\n",
              "      <th>0</th>\n",
              "    </tr>\n",
              "  </thead>\n",
              "  <tbody>\n",
              "    <tr>\n",
              "      <th>id_number</th>\n",
              "      <td>0</td>\n",
              "    </tr>\n",
              "    <tr>\n",
              "      <th>transaction_id</th>\n",
              "      <td>0</td>\n",
              "    </tr>\n",
              "    <tr>\n",
              "      <th>purchase_amount</th>\n",
              "      <td>0</td>\n",
              "    </tr>\n",
              "    <tr>\n",
              "      <th>purchase_date</th>\n",
              "      <td>0</td>\n",
              "    </tr>\n",
              "    <tr>\n",
              "      <th>product_category</th>\n",
              "      <td>0</td>\n",
              "    </tr>\n",
              "    <tr>\n",
              "      <th>customer_rating</th>\n",
              "      <td>19</td>\n",
              "    </tr>\n",
              "    <tr>\n",
              "      <th>customer_id_new</th>\n",
              "      <td>0</td>\n",
              "    </tr>\n",
              "    <tr>\n",
              "      <th>social_media_platform</th>\n",
              "      <td>0</td>\n",
              "    </tr>\n",
              "    <tr>\n",
              "      <th>engagement_score</th>\n",
              "      <td>0</td>\n",
              "    </tr>\n",
              "    <tr>\n",
              "      <th>purchase_interest_score</th>\n",
              "      <td>0</td>\n",
              "    </tr>\n",
              "    <tr>\n",
              "      <th>review_sentiment</th>\n",
              "      <td>0</td>\n",
              "    </tr>\n",
              "  </tbody>\n",
              "</table>\n",
              "</div><br><label><b>dtype:</b> int64</label>"
            ]
          },
          "metadata": {},
          "execution_count": 8
        }
      ]
    },
    {
      "cell_type": "code",
      "source": [
        "# Plot the distribution of customer_rating\n",
        "plt.figure(figsize=(8, 4))\n",
        "sns.histplot(merged_dataset['customer_rating'], kde=True, bins=20)\n",
        "plt.title('Distribution of Customer Rating')\n",
        "plt.xlabel('Customer Rating')\n",
        "plt.ylabel('Frequency')\n",
        "plt.show()\n"
      ],
      "metadata": {
        "colab": {
          "base_uri": "https://localhost:8080/",
          "height": 410
        },
        "id": "9Xl5BMi7u-rD",
        "outputId": "5ecf895a-bca7-4b7d-93e7-267401f711a6"
      },
      "execution_count": 15,
      "outputs": [
        {
          "output_type": "display_data",
          "data": {
            "text/plain": [
              "<Figure size 800x400 with 1 Axes>"
            ],
            "image/png": "[encoded data removed]"
          },
          "metadata": {}
        }
      ]
    },
    {
      "cell_type": "code",
      "source": [
        "print(\"Skewness:\", merged_dataset['customer_rating'].skew())\n",
        "print(merged_dataset['customer_rating'].describe())\n"
      ],
      "metadata": {
        "colab": {
          "base_uri": "https://localhost:8080/"
        },
        "id": "b4NYZzoovP_6",
        "outputId": "2800fd98-48df-4ac3-fa2b-e997d547b135"
      },
      "execution_count": 16,
      "outputs": [
        {
          "output_type": "stream",
          "name": "stdout",
          "text": [
            "Skewness: -0.21213602149240177\n",
            "count    196.000000\n",
            "mean       3.078061\n",
            "std        1.260638\n",
            "min        1.000000\n",
            "25%        1.700000\n",
            "50%        3.200000\n",
            "75%        4.200000\n",
            "max        5.000000\n",
            "Name: customer_rating, dtype: float64\n"
          ]
        }
      ]
    },
    {
      "cell_type": "code",
      "source": [
        "# we used mean due to low skewness\n",
        "merged_dataset['customer_rating'] = merged_dataset['customer_rating'].fillna(\n",
        "    merged_dataset['customer_rating'].mean()\n",
        ")"
      ],
      "metadata": {
        "id": "6gfzukt4vURl"
      },
      "execution_count": 17,
      "outputs": []
    },
    {
      "cell_type": "code",
      "source": [
        "merged_dataset.isna().sum()"
      ],
      "metadata": {
        "colab": {
          "base_uri": "https://localhost:8080/",
          "height": 429
        },
        "id": "rcCYGFwPvZuu",
        "outputId": "50c7767f-7dc7-474f-a974-3a273f87dca6"
      },
      "execution_count": 18,
      "outputs": [
        {
          "output_type": "execute_result",
          "data": {
            "text/plain": [
              "id_number                  0\n",
              "transaction_id             0\n",
              "purchase_amount            0\n",
              "purchase_date              0\n",
              "product_category           0\n",
              "customer_rating            0\n",
              "customer_id_new            0\n",
              "social_media_platform      0\n",
              "engagement_score           0\n",
              "purchase_interest_score    0\n",
              "review_sentiment           0\n",
              "dtype: int64"
            ],
            "text/html": [
              "<div>\n",
              "<style scoped>\n",
              "    .dataframe tbody tr th:only-of-type {\n",
              "        vertical-align: middle;\n",
              "    }\n",
              "\n",
              "    .dataframe tbody tr th {\n",
              "        vertical-align: top;\n",
              "    }\n",
              "\n",
              "    .dataframe thead th {\n",
              "        text-align: right;\n",
              "    }\n",
              "</style>\n",
              "<table border=\"1\" class=\"dataframe\">\n",
              "  <thead>\n",
              "    <tr style=\"text-align: right;\">\n",
              "      <th></th>\n",
              "      <th>0</th>\n",
              "    </tr>\n",
              "  </thead>\n",
              "  <tbody>\n",
              "    <tr>\n",
              "      <th>id_number</th>\n",
              "      <td>0</td>\n",
              "    </tr>\n",
              "    <tr>\n",
              "      <th>transaction_id</th>\n",
              "      <td>0</td>\n",
              "    </tr>\n",
              "    <tr>\n",
              "      <th>purchase_amount</th>\n",
              "      <td>0</td>\n",
              "    </tr>\n",
              "    <tr>\n",
              "      <th>purchase_date</th>\n",
              "      <td>0</td>\n",
              "    </tr>\n",
              "    <tr>\n",
              "      <th>product_category</th>\n",
              "      <td>0</td>\n",
              "    </tr>\n",
              "    <tr>\n",
              "      <th>customer_rating</th>\n",
              "      <td>0</td>\n",
              "    </tr>\n",
              "    <tr>\n",
              "      <th>customer_id_new</th>\n",
              "      <td>0</td>\n",
              "    </tr>\n",
              "    <tr>\n",
              "      <th>social_media_platform</th>\n",
              "      <td>0</td>\n",
              "    </tr>\n",
              "    <tr>\n",
              "      <th>engagement_score</th>\n",
              "      <td>0</td>\n",
              "    </tr>\n",
              "    <tr>\n",
              "      <th>purchase_interest_score</th>\n",
              "      <td>0</td>\n",
              "    </tr>\n",
              "    <tr>\n",
              "      <th>review_sentiment</th>\n",
              "      <td>0</td>\n",
              "    </tr>\n",
              "  </tbody>\n",
              "</table>\n",
              "</div><br><label><b>dtype:</b> int64</label>"
            ]
          },
          "metadata": {},
          "execution_count": 18
        }
      ]
    },
    {
      "cell_type": "code",
      "source": [
        "# Saving the merged data into a csv\n",
        "merged_dataset.to_csv('merged_dataset.csv', index=False)"
      ],
      "metadata": {
        "id": "-nsL4T4MvlDV"
      },
      "execution_count": 19,
      "outputs": []
    }
  ]
}